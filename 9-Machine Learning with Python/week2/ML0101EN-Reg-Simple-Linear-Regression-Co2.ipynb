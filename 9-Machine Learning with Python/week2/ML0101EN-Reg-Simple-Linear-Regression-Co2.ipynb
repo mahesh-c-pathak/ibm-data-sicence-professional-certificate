{
 "cells": [
  {
   "cell_type": "markdown",
   "metadata": {
    "button": false,
    "new_sheet": false,
    "run_control": {
     "read_only": false
    }
   },
   "source": [
    "<p style=\"text-align:center\">\n",
    "    <a href=\"https://skills.network/?utm_medium=Exinfluencer&utm_source=Exinfluencer&utm_content=000026UJ&utm_term=10006555&utm_id=NA-SkillsNetwork-Channel-SkillsNetworkCoursesIBMDeveloperSkillsNetworkML0101ENSkillsNetwork20718538-2022-01-01\" target=\"_blank\">\n",
    "    <img src=\"https://cf-courses-data.s3.us.cloud-object-storage.appdomain.cloud/assets/logos/SN_web_lightmode.png\" width=\"200\" alt=\"Skills Network Logo\"  />\n",
    "    </a>\n",
    "</p>\n",
    "\n",
    "# Simple Linear Regression\n",
    "\n",
    "Estimated time needed: **15** minutes\n",
    "\n",
    "## Objectives\n",
    "\n",
    "After completing this lab you will be able to:\n",
    "\n",
    "*   Use scikit-learn to implement simple Linear Regression\n",
    "*   Create a model, train it, test it and use the model\n"
   ]
  },
  {
   "cell_type": "markdown",
   "metadata": {
    "button": false,
    "new_sheet": false,
    "run_control": {
     "read_only": false
    }
   },
   "source": [
    "### Importing Needed packages\n"
   ]
  },
  {
   "cell_type": "code",
   "execution_count": 1,
   "metadata": {
    "button": false,
    "new_sheet": false,
    "run_control": {
     "read_only": false
    }
   },
   "outputs": [],
   "source": [
    "import matplotlib.pyplot as plt\n",
    "import pandas as pd\n",
    "import pylab as pl\n",
    "import numpy as np\n",
    "%matplotlib inline"
   ]
  },
  {
   "cell_type": "markdown",
   "metadata": {
    "button": false,
    "new_sheet": false,
    "run_control": {
     "read_only": false
    }
   },
   "source": [
    "### Downloading Data\n",
    "\n",
    "To download the data, we will use !wget to download it from IBM Object Storage.\n"
   ]
  },
  {
   "cell_type": "code",
   "execution_count": 2,
   "metadata": {
    "button": false,
    "new_sheet": false,
    "run_control": {
     "read_only": false
    }
   },
   "outputs": [],
   "source": [
    "# !wget -O FuelConsumption.csv https://cf-courses-data.s3.us.cloud-object-storage.appdomain.cloud/IBMDeveloperSkillsNetwork-ML0101EN-SkillsNetwork/labs/Module%202/data/FuelConsumptionCo2.csv"
   ]
  },
  {
   "cell_type": "markdown",
   "metadata": {},
   "source": [
    "**Did you know?** When it comes to Machine Learning, you will likely be working with large datasets. As a business, where can you host your data? IBM is offering a unique opportunity for businesses, with 10 Tb of IBM Cloud Object Storage: [Sign up now for free](http://cocl.us/ML0101EN-IBM-Offer-CC)\n"
   ]
  },
  {
   "cell_type": "markdown",
   "metadata": {
    "button": false,
    "new_sheet": false,
    "run_control": {
     "read_only": false
    }
   },
   "source": [
    "## Understanding the Data\n",
    "\n",
    "### `FuelConsumption.csv`:\n",
    "\n",
    "We have downloaded a fuel consumption dataset, **`FuelConsumption.csv`**, which contains model-specific fuel consumption ratings and estimated carbon dioxide emissions for new light-duty vehicles for retail sale in Canada. [Dataset source](http://open.canada.ca/data/en/dataset/98f1a129-f628-4ce4-b24d-6f16bf24dd64?utm_medium=Exinfluencer&utm_source=Exinfluencer&utm_content=000026UJ&utm_term=10006555&utm_id=NA-SkillsNetwork-Channel-SkillsNetworkCoursesIBMDeveloperSkillsNetworkML0101ENSkillsNetwork20718538-2022-01-01)\n",
    "\n",
    "*   **MODELYEAR** e.g. 2014\n",
    "*   **MAKE** e.g. Acura\n",
    "*   **MODEL** e.g. ILX\n",
    "*   **VEHICLE CLASS** e.g. SUV\n",
    "*   **ENGINE SIZE** e.g. 4.7\n",
    "*   **CYLINDERS** e.g 6\n",
    "*   **TRANSMISSION** e.g. A6\n",
    "*   **FUEL CONSUMPTION in CITY(L/100 km)** e.g. 9.9\n",
    "*   **FUEL CONSUMPTION in HWY (L/100 km)** e.g. 8.9\n",
    "*   **FUEL CONSUMPTION COMB (L/100 km)** e.g. 9.2\n",
    "*   **CO2 EMISSIONS (g/km)** e.g. 182   --> low --> 0\n"
   ]
  },
  {
   "cell_type": "markdown",
   "metadata": {
    "button": false,
    "new_sheet": false,
    "run_control": {
     "read_only": false
    }
   },
   "source": [
    "## Reading the data in\n"
   ]
  },
  {
   "cell_type": "code",
   "execution_count": 3,
   "metadata": {
    "button": false,
    "new_sheet": false,
    "run_control": {
     "read_only": false
    }
   },
   "outputs": [
    {
     "data": {
      "text/html": [
       "<div>\n",
       "<style scoped>\n",
       "    .dataframe tbody tr th:only-of-type {\n",
       "        vertical-align: middle;\n",
       "    }\n",
       "\n",
       "    .dataframe tbody tr th {\n",
       "        vertical-align: top;\n",
       "    }\n",
       "\n",
       "    .dataframe thead th {\n",
       "        text-align: right;\n",
       "    }\n",
       "</style>\n",
       "<table border=\"1\" class=\"dataframe\">\n",
       "  <thead>\n",
       "    <tr style=\"text-align: right;\">\n",
       "      <th></th>\n",
       "      <th>MODELYEAR</th>\n",
       "      <th>MAKE</th>\n",
       "      <th>MODEL</th>\n",
       "      <th>VEHICLECLASS</th>\n",
       "      <th>ENGINESIZE</th>\n",
       "      <th>CYLINDERS</th>\n",
       "      <th>TRANSMISSION</th>\n",
       "      <th>FUELTYPE</th>\n",
       "      <th>FUELCONSUMPTION_CITY</th>\n",
       "      <th>FUELCONSUMPTION_HWY</th>\n",
       "      <th>FUELCONSUMPTION_COMB</th>\n",
       "      <th>FUELCONSUMPTION_COMB_MPG</th>\n",
       "      <th>CO2EMISSIONS</th>\n",
       "    </tr>\n",
       "  </thead>\n",
       "  <tbody>\n",
       "    <tr>\n",
       "      <th>0</th>\n",
       "      <td>2014</td>\n",
       "      <td>ACURA</td>\n",
       "      <td>ILX</td>\n",
       "      <td>COMPACT</td>\n",
       "      <td>2.0</td>\n",
       "      <td>4</td>\n",
       "      <td>AS5</td>\n",
       "      <td>Z</td>\n",
       "      <td>9.9</td>\n",
       "      <td>6.7</td>\n",
       "      <td>8.5</td>\n",
       "      <td>33</td>\n",
       "      <td>196</td>\n",
       "    </tr>\n",
       "    <tr>\n",
       "      <th>1</th>\n",
       "      <td>2014</td>\n",
       "      <td>ACURA</td>\n",
       "      <td>ILX</td>\n",
       "      <td>COMPACT</td>\n",
       "      <td>2.4</td>\n",
       "      <td>4</td>\n",
       "      <td>M6</td>\n",
       "      <td>Z</td>\n",
       "      <td>11.2</td>\n",
       "      <td>7.7</td>\n",
       "      <td>9.6</td>\n",
       "      <td>29</td>\n",
       "      <td>221</td>\n",
       "    </tr>\n",
       "    <tr>\n",
       "      <th>2</th>\n",
       "      <td>2014</td>\n",
       "      <td>ACURA</td>\n",
       "      <td>ILX HYBRID</td>\n",
       "      <td>COMPACT</td>\n",
       "      <td>1.5</td>\n",
       "      <td>4</td>\n",
       "      <td>AV7</td>\n",
       "      <td>Z</td>\n",
       "      <td>6.0</td>\n",
       "      <td>5.8</td>\n",
       "      <td>5.9</td>\n",
       "      <td>48</td>\n",
       "      <td>136</td>\n",
       "    </tr>\n",
       "    <tr>\n",
       "      <th>3</th>\n",
       "      <td>2014</td>\n",
       "      <td>ACURA</td>\n",
       "      <td>MDX 4WD</td>\n",
       "      <td>SUV - SMALL</td>\n",
       "      <td>3.5</td>\n",
       "      <td>6</td>\n",
       "      <td>AS6</td>\n",
       "      <td>Z</td>\n",
       "      <td>12.7</td>\n",
       "      <td>9.1</td>\n",
       "      <td>11.1</td>\n",
       "      <td>25</td>\n",
       "      <td>255</td>\n",
       "    </tr>\n",
       "    <tr>\n",
       "      <th>4</th>\n",
       "      <td>2014</td>\n",
       "      <td>ACURA</td>\n",
       "      <td>RDX AWD</td>\n",
       "      <td>SUV - SMALL</td>\n",
       "      <td>3.5</td>\n",
       "      <td>6</td>\n",
       "      <td>AS6</td>\n",
       "      <td>Z</td>\n",
       "      <td>12.1</td>\n",
       "      <td>8.7</td>\n",
       "      <td>10.6</td>\n",
       "      <td>27</td>\n",
       "      <td>244</td>\n",
       "    </tr>\n",
       "  </tbody>\n",
       "</table>\n",
       "</div>"
      ],
      "text/plain": [
       "   MODELYEAR   MAKE       MODEL VEHICLECLASS  ENGINESIZE  CYLINDERS  \\\n",
       "0       2014  ACURA         ILX      COMPACT         2.0          4   \n",
       "1       2014  ACURA         ILX      COMPACT         2.4          4   \n",
       "2       2014  ACURA  ILX HYBRID      COMPACT         1.5          4   \n",
       "3       2014  ACURA     MDX 4WD  SUV - SMALL         3.5          6   \n",
       "4       2014  ACURA     RDX AWD  SUV - SMALL         3.5          6   \n",
       "\n",
       "  TRANSMISSION FUELTYPE  FUELCONSUMPTION_CITY  FUELCONSUMPTION_HWY  \\\n",
       "0          AS5        Z                   9.9                  6.7   \n",
       "1           M6        Z                  11.2                  7.7   \n",
       "2          AV7        Z                   6.0                  5.8   \n",
       "3          AS6        Z                  12.7                  9.1   \n",
       "4          AS6        Z                  12.1                  8.7   \n",
       "\n",
       "   FUELCONSUMPTION_COMB  FUELCONSUMPTION_COMB_MPG  CO2EMISSIONS  \n",
       "0                   8.5                        33           196  \n",
       "1                   9.6                        29           221  \n",
       "2                   5.9                        48           136  \n",
       "3                  11.1                        25           255  \n",
       "4                  10.6                        27           244  "
      ]
     },
     "execution_count": 3,
     "metadata": {},
     "output_type": "execute_result"
    }
   ],
   "source": [
    "# df = pd.read_csv(\"FuelConsumption.csv\")\n",
    "\n",
    "df = pd.read_csv('https://cf-courses-data.s3.us.cloud-object-storage.appdomain.cloud/IBMDeveloperSkillsNetwork-ML0101EN-SkillsNetwork/labs/Module%202/data/FuelConsumptionCo2.csv')\n",
    "\n",
    "# take a look at the dataset\n",
    "df.head()"
   ]
  },
  {
   "cell_type": "markdown",
   "metadata": {
    "button": false,
    "new_sheet": false,
    "run_control": {
     "read_only": false
    }
   },
   "source": [
    "### Data Exploration\n",
    "\n",
    "Let's first have a descriptive exploration on our data.\n"
   ]
  },
  {
   "cell_type": "code",
   "execution_count": 4,
   "metadata": {
    "button": false,
    "new_sheet": false,
    "run_control": {
     "read_only": false
    }
   },
   "outputs": [
    {
     "data": {
      "text/html": [
       "<div>\n",
       "<style scoped>\n",
       "    .dataframe tbody tr th:only-of-type {\n",
       "        vertical-align: middle;\n",
       "    }\n",
       "\n",
       "    .dataframe tbody tr th {\n",
       "        vertical-align: top;\n",
       "    }\n",
       "\n",
       "    .dataframe thead th {\n",
       "        text-align: right;\n",
       "    }\n",
       "</style>\n",
       "<table border=\"1\" class=\"dataframe\">\n",
       "  <thead>\n",
       "    <tr style=\"text-align: right;\">\n",
       "      <th></th>\n",
       "      <th>MODELYEAR</th>\n",
       "      <th>ENGINESIZE</th>\n",
       "      <th>CYLINDERS</th>\n",
       "      <th>FUELCONSUMPTION_CITY</th>\n",
       "      <th>FUELCONSUMPTION_HWY</th>\n",
       "      <th>FUELCONSUMPTION_COMB</th>\n",
       "      <th>FUELCONSUMPTION_COMB_MPG</th>\n",
       "      <th>CO2EMISSIONS</th>\n",
       "    </tr>\n",
       "  </thead>\n",
       "  <tbody>\n",
       "    <tr>\n",
       "      <th>count</th>\n",
       "      <td>1067.0</td>\n",
       "      <td>1067.000000</td>\n",
       "      <td>1067.000000</td>\n",
       "      <td>1067.000000</td>\n",
       "      <td>1067.000000</td>\n",
       "      <td>1067.000000</td>\n",
       "      <td>1067.000000</td>\n",
       "      <td>1067.000000</td>\n",
       "    </tr>\n",
       "    <tr>\n",
       "      <th>mean</th>\n",
       "      <td>2014.0</td>\n",
       "      <td>3.346298</td>\n",
       "      <td>5.794752</td>\n",
       "      <td>13.296532</td>\n",
       "      <td>9.474602</td>\n",
       "      <td>11.580881</td>\n",
       "      <td>26.441425</td>\n",
       "      <td>256.228679</td>\n",
       "    </tr>\n",
       "    <tr>\n",
       "      <th>std</th>\n",
       "      <td>0.0</td>\n",
       "      <td>1.415895</td>\n",
       "      <td>1.797447</td>\n",
       "      <td>4.101253</td>\n",
       "      <td>2.794510</td>\n",
       "      <td>3.485595</td>\n",
       "      <td>7.468702</td>\n",
       "      <td>63.372304</td>\n",
       "    </tr>\n",
       "    <tr>\n",
       "      <th>min</th>\n",
       "      <td>2014.0</td>\n",
       "      <td>1.000000</td>\n",
       "      <td>3.000000</td>\n",
       "      <td>4.600000</td>\n",
       "      <td>4.900000</td>\n",
       "      <td>4.700000</td>\n",
       "      <td>11.000000</td>\n",
       "      <td>108.000000</td>\n",
       "    </tr>\n",
       "    <tr>\n",
       "      <th>25%</th>\n",
       "      <td>2014.0</td>\n",
       "      <td>2.000000</td>\n",
       "      <td>4.000000</td>\n",
       "      <td>10.250000</td>\n",
       "      <td>7.500000</td>\n",
       "      <td>9.000000</td>\n",
       "      <td>21.000000</td>\n",
       "      <td>207.000000</td>\n",
       "    </tr>\n",
       "    <tr>\n",
       "      <th>50%</th>\n",
       "      <td>2014.0</td>\n",
       "      <td>3.400000</td>\n",
       "      <td>6.000000</td>\n",
       "      <td>12.600000</td>\n",
       "      <td>8.800000</td>\n",
       "      <td>10.900000</td>\n",
       "      <td>26.000000</td>\n",
       "      <td>251.000000</td>\n",
       "    </tr>\n",
       "    <tr>\n",
       "      <th>75%</th>\n",
       "      <td>2014.0</td>\n",
       "      <td>4.300000</td>\n",
       "      <td>8.000000</td>\n",
       "      <td>15.550000</td>\n",
       "      <td>10.850000</td>\n",
       "      <td>13.350000</td>\n",
       "      <td>31.000000</td>\n",
       "      <td>294.000000</td>\n",
       "    </tr>\n",
       "    <tr>\n",
       "      <th>max</th>\n",
       "      <td>2014.0</td>\n",
       "      <td>8.400000</td>\n",
       "      <td>12.000000</td>\n",
       "      <td>30.200000</td>\n",
       "      <td>20.500000</td>\n",
       "      <td>25.800000</td>\n",
       "      <td>60.000000</td>\n",
       "      <td>488.000000</td>\n",
       "    </tr>\n",
       "  </tbody>\n",
       "</table>\n",
       "</div>"
      ],
      "text/plain": [
       "       MODELYEAR   ENGINESIZE    CYLINDERS  FUELCONSUMPTION_CITY  \\\n",
       "count     1067.0  1067.000000  1067.000000           1067.000000   \n",
       "mean      2014.0     3.346298     5.794752             13.296532   \n",
       "std          0.0     1.415895     1.797447              4.101253   \n",
       "min       2014.0     1.000000     3.000000              4.600000   \n",
       "25%       2014.0     2.000000     4.000000             10.250000   \n",
       "50%       2014.0     3.400000     6.000000             12.600000   \n",
       "75%       2014.0     4.300000     8.000000             15.550000   \n",
       "max       2014.0     8.400000    12.000000             30.200000   \n",
       "\n",
       "       FUELCONSUMPTION_HWY  FUELCONSUMPTION_COMB  FUELCONSUMPTION_COMB_MPG  \\\n",
       "count          1067.000000           1067.000000               1067.000000   \n",
       "mean              9.474602             11.580881                 26.441425   \n",
       "std               2.794510              3.485595                  7.468702   \n",
       "min               4.900000              4.700000                 11.000000   \n",
       "25%               7.500000              9.000000                 21.000000   \n",
       "50%               8.800000             10.900000                 26.000000   \n",
       "75%              10.850000             13.350000                 31.000000   \n",
       "max              20.500000             25.800000                 60.000000   \n",
       "\n",
       "       CO2EMISSIONS  \n",
       "count   1067.000000  \n",
       "mean     256.228679  \n",
       "std       63.372304  \n",
       "min      108.000000  \n",
       "25%      207.000000  \n",
       "50%      251.000000  \n",
       "75%      294.000000  \n",
       "max      488.000000  "
      ]
     },
     "execution_count": 4,
     "metadata": {},
     "output_type": "execute_result"
    }
   ],
   "source": [
    "# summarize the data\n",
    "df.describe()"
   ]
  },
  {
   "cell_type": "markdown",
   "metadata": {},
   "source": [
    "Let's select some features to explore more.\n"
   ]
  },
  {
   "cell_type": "code",
   "execution_count": 5,
   "metadata": {
    "button": false,
    "new_sheet": false,
    "run_control": {
     "read_only": false
    }
   },
   "outputs": [
    {
     "data": {
      "text/html": [
       "<div>\n",
       "<style scoped>\n",
       "    .dataframe tbody tr th:only-of-type {\n",
       "        vertical-align: middle;\n",
       "    }\n",
       "\n",
       "    .dataframe tbody tr th {\n",
       "        vertical-align: top;\n",
       "    }\n",
       "\n",
       "    .dataframe thead th {\n",
       "        text-align: right;\n",
       "    }\n",
       "</style>\n",
       "<table border=\"1\" class=\"dataframe\">\n",
       "  <thead>\n",
       "    <tr style=\"text-align: right;\">\n",
       "      <th></th>\n",
       "      <th>ENGINESIZE</th>\n",
       "      <th>CYLINDERS</th>\n",
       "      <th>FUELCONSUMPTION_COMB</th>\n",
       "      <th>CO2EMISSIONS</th>\n",
       "    </tr>\n",
       "  </thead>\n",
       "  <tbody>\n",
       "    <tr>\n",
       "      <th>0</th>\n",
       "      <td>2.0</td>\n",
       "      <td>4</td>\n",
       "      <td>8.5</td>\n",
       "      <td>196</td>\n",
       "    </tr>\n",
       "    <tr>\n",
       "      <th>1</th>\n",
       "      <td>2.4</td>\n",
       "      <td>4</td>\n",
       "      <td>9.6</td>\n",
       "      <td>221</td>\n",
       "    </tr>\n",
       "    <tr>\n",
       "      <th>2</th>\n",
       "      <td>1.5</td>\n",
       "      <td>4</td>\n",
       "      <td>5.9</td>\n",
       "      <td>136</td>\n",
       "    </tr>\n",
       "    <tr>\n",
       "      <th>3</th>\n",
       "      <td>3.5</td>\n",
       "      <td>6</td>\n",
       "      <td>11.1</td>\n",
       "      <td>255</td>\n",
       "    </tr>\n",
       "    <tr>\n",
       "      <th>4</th>\n",
       "      <td>3.5</td>\n",
       "      <td>6</td>\n",
       "      <td>10.6</td>\n",
       "      <td>244</td>\n",
       "    </tr>\n",
       "    <tr>\n",
       "      <th>5</th>\n",
       "      <td>3.5</td>\n",
       "      <td>6</td>\n",
       "      <td>10.0</td>\n",
       "      <td>230</td>\n",
       "    </tr>\n",
       "    <tr>\n",
       "      <th>6</th>\n",
       "      <td>3.5</td>\n",
       "      <td>6</td>\n",
       "      <td>10.1</td>\n",
       "      <td>232</td>\n",
       "    </tr>\n",
       "    <tr>\n",
       "      <th>7</th>\n",
       "      <td>3.7</td>\n",
       "      <td>6</td>\n",
       "      <td>11.1</td>\n",
       "      <td>255</td>\n",
       "    </tr>\n",
       "    <tr>\n",
       "      <th>8</th>\n",
       "      <td>3.7</td>\n",
       "      <td>6</td>\n",
       "      <td>11.6</td>\n",
       "      <td>267</td>\n",
       "    </tr>\n",
       "  </tbody>\n",
       "</table>\n",
       "</div>"
      ],
      "text/plain": [
       "   ENGINESIZE  CYLINDERS  FUELCONSUMPTION_COMB  CO2EMISSIONS\n",
       "0         2.0          4                   8.5           196\n",
       "1         2.4          4                   9.6           221\n",
       "2         1.5          4                   5.9           136\n",
       "3         3.5          6                  11.1           255\n",
       "4         3.5          6                  10.6           244\n",
       "5         3.5          6                  10.0           230\n",
       "6         3.5          6                  10.1           232\n",
       "7         3.7          6                  11.1           255\n",
       "8         3.7          6                  11.6           267"
      ]
     },
     "execution_count": 5,
     "metadata": {},
     "output_type": "execute_result"
    }
   ],
   "source": [
    "cdf = df[['ENGINESIZE','CYLINDERS','FUELCONSUMPTION_COMB','CO2EMISSIONS']]\n",
    "cdf.head(9)"
   ]
  },
  {
   "cell_type": "markdown",
   "metadata": {},
   "source": [
    "We can plot each of these features:\n"
   ]
  },
  {
   "cell_type": "code",
   "execution_count": 6,
   "metadata": {
    "button": false,
    "new_sheet": false,
    "run_control": {
     "read_only": false
    }
   },
   "outputs": [
    {
     "data": {
      "image/png": "[encoded data removed]",
      "text/plain": [
       "<Figure size 432x288 with 4 Axes>"
      ]
     },
     "metadata": {
      "needs_background": "light"
     },
     "output_type": "display_data"
    }
   ],
   "source": [
    "viz = cdf[['CYLINDERS','ENGINESIZE','CO2EMISSIONS','FUELCONSUMPTION_COMB']]\n",
    "viz.hist()\n",
    "plt.show()"
   ]
  },
  {
   "cell_type": "markdown",
   "metadata": {},
   "source": [
    "Now, let's plot each of these features against the Emission, to see how linear their relationship is:\n"
   ]
  },
  {
   "cell_type": "code",
   "execution_count": 7,
   "metadata": {
    "button": false,
    "new_sheet": false,
    "run_control": {
     "read_only": false
    }
   },
   "outputs": [
    {
     "data": {
      "image/png": "[encoded data removed]",
      "text/plain": [
       "<Figure size 432x288 with 1 Axes>"
      ]
     },
     "metadata": {
      "needs_background": "light"
     },
     "output_type": "display_data"
    }
   ],
   "source": [
    "plt.scatter(cdf.FUELCONSUMPTION_COMB, cdf.CO2EMISSIONS,  color='blue')\n",
    "plt.xlabel(\"FUELCONSUMPTION_COMB\")\n",
    "plt.ylabel(\"Emission\")\n",
    "plt.show()"
   ]
  },
  {
   "cell_type": "code",
   "execution_count": 8,
   "metadata": {
    "button": false,
    "new_sheet": false,
    "run_control": {
     "read_only": false
    },
    "scrolled": true
   },
   "outputs": [
    {
     "data": {
      "image/png": "[encoded data removed]",
      "text/plain": [
       "<Figure size 432x288 with 1 Axes>"
      ]
     },
     "metadata": {
      "needs_background": "light"
     },
     "output_type": "display_data"
    }
   ],
   "source": [
    "plt.scatter(cdf.ENGINESIZE, cdf.CO2EMISSIONS,  color='blue')\n",
    "plt.xlabel(\"Engine size\")\n",
    "plt.ylabel(\"Emission\")\n",
    "plt.show()"
   ]
  },
  {
   "cell_type": "markdown",
   "metadata": {},
   "source": [
    "## Practice\n",
    "\n",
    "Plot **CYLINDER** vs the Emission, to see how linear is their relationship is:\n"
   ]
  },
  {
   "cell_type": "code",
   "execution_count": 9,
   "metadata": {
    "button": false,
    "new_sheet": false,
    "run_control": {
     "read_only": false
    }
   },
   "outputs": [
    {
     "data": {
      "image/png": "[encoded data removed]",
      "text/plain": [
       "<Figure size 432x288 with 1 Axes>"
      ]
     },
     "metadata": {
      "needs_background": "light"
     },
     "output_type": "display_data"
    }
   ],
   "source": [
    "# write your code here\n",
    "plt.scatter(cdf.CYLINDERS, cdf.CO2EMISSIONS, color = 'red')\n",
    "plt.xlabel('Cyllinders')\n",
    "plt.ylabel('Emmision')\n",
    "plt.show()"
   ]
  },
  {
   "cell_type": "markdown",
   "metadata": {},
   "source": [
    "<details><summary>Click here for the solution</summary>\n",
    "\n",
    "```python\n",
    "plt.scatter(cdf.CYLINDERS, cdf.CO2EMISSIONS, color='blue')\n",
    "plt.xlabel(\"Cylinders\")\n",
    "plt.ylabel(\"Emission\")\n",
    "plt.show()\n",
    "\n",
    "```\n",
    "\n",
    "</details>\n"
   ]
  },
  {
   "cell_type": "markdown",
   "metadata": {
    "button": false,
    "new_sheet": false,
    "run_control": {
     "read_only": false
    }
   },
   "source": [
    "#### Creating train and test dataset\n",
    "\n",
    "Train/Test Split involves splitting the dataset into training and testing sets that are mutually exclusive. After which, you train with the training set and test with the testing set.\n",
    "This will provide a more accurate evaluation on out-of-sample accuracy because the testing dataset is not part of the dataset that have been used to train the model. Therefore, it gives us a better understanding of how well our model generalizes on new data.\n",
    "\n",
    "This means that we know the outcome of each data point in the testing dataset, making it great to test with! Since this data has not been used to train the model, the model has no knowledge of the outcome of these data points. So, in essence, it is truly an out-of-sample testing.\n",
    "\n",
    "Let's split our dataset into train and test sets. 80% of the entire dataset will be used for training and 20% for testing. We create a mask to select random rows using **np.random.rand()** function:\n"
   ]
  },
  {
   "cell_type": "code",
   "execution_count": 10,
   "metadata": {
    "button": false,
    "new_sheet": false,
    "run_control": {
     "read_only": false
    }
   },
   "outputs": [],
   "source": [
    "msk = np.random.rand(len(df)) < 0.8\n",
    "train = cdf[msk]\n",
    "test = cdf[~msk]"
   ]
  },
  {
   "cell_type": "markdown",
   "metadata": {
    "button": false,
    "new_sheet": false,
    "run_control": {
     "read_only": false
    }
   },
   "source": [
    "### Simple Regression Model\n",
    "\n",
    "Linear Regression fits a linear model with coefficients B = (B1, ..., Bn) to minimize the 'residual sum of squares' between the actual value y in the dataset, and the predicted value yhat using linear approximation.\n"
   ]
  },
  {
   "cell_type": "markdown",
   "metadata": {
    "button": false,
    "new_sheet": false,
    "run_control": {
     "read_only": false
    }
   },
   "source": [
    "#### Train data distribution\n"
   ]
  },
  {
   "cell_type": "code",
   "execution_count": 11,
   "metadata": {
    "button": false,
    "new_sheet": false,
    "run_control": {
     "read_only": false
    }
   },
   "outputs": [
    {
     "data": {
      "image/png": "[encoded data removed]",
      "text/plain": [
       "<Figure size 432x288 with 1 Axes>"
      ]
     },
     "metadata": {
      "needs_background": "light"
     },
     "output_type": "display_data"
    }
   ],
   "source": [
    "plt.scatter(train.ENGINESIZE, train.CO2EMISSIONS,  color='blue')\n",
    "plt.xlabel(\"Engine size\")\n",
    "plt.ylabel(\"Emission\")\n",
    "plt.show()"
   ]
  },
  {
   "cell_type": "markdown",
   "metadata": {
    "button": false,
    "new_sheet": false,
    "run_control": {
     "read_only": false
    }
   },
   "source": [
    "#### Modeling\n",
    "\n",
    "Using sklearn package to model data.\n"
   ]
  },
  {
   "cell_type": "code",
   "execution_count": 12,
   "metadata": {
    "button": false,
    "new_sheet": false,
    "run_control": {
     "read_only": false
    }
   },
   "outputs": [
    {
     "name": "stdout",
     "output_type": "stream",
     "text": [
      "Coefficients:  [[39.64248193]]\n",
      "Intercept:  [123.52220069]\n"
     ]
    }
   ],
   "source": [
    "from sklearn import linear_model\n",
    "regr = linear_model.LinearRegression()\n",
    "train_x = np.asanyarray(train[['ENGINESIZE']])\n",
    "train_y = np.asanyarray(train[['CO2EMISSIONS']])\n",
    "regr.fit(train_x, train_y)\n",
    "# The coefficients\n",
    "print ('Coefficients: ', regr.coef_)\n",
    "print ('Intercept: ',regr.intercept_)"
   ]
  },
  {
   "cell_type": "markdown",
   "metadata": {},
   "source": [
    "As mentioned before, **Coefficient** and **Intercept** in the simple linear regression, are the parameters of the fit line.\n",
    "Given that it is a simple linear regression, with only 2 parameters, and knowing that the parameters are the intercept and slope of the line, sklearn can estimate them directly from our data.\n",
    "Notice that all of the data must be available to traverse and calculate the parameters.\n"
   ]
  },
  {
   "cell_type": "markdown",
   "metadata": {
    "button": false,
    "new_sheet": false,
    "run_control": {
     "read_only": false
    }
   },
   "source": [
    "#### Plot outputs\n"
   ]
  },
  {
   "cell_type": "markdown",
   "metadata": {},
   "source": [
    "We can plot the fit line over the data:\n"
   ]
  },
  {
   "cell_type": "code",
   "execution_count": 13,
   "metadata": {
    "button": false,
    "new_sheet": false,
    "run_control": {
     "read_only": false
    }
   },
   "outputs": [
    {
     "data": {
      "text/plain": [
       "Text(0, 0.5, 'Emission')"
      ]
     },
     "execution_count": 13,
     "metadata": {},
     "output_type": "execute_result"
    },
    {
     "data": {
      "image/png": "[encoded data removed]",
      "text/plain": [
       "<Figure size 432x288 with 1 Axes>"
      ]
     },
     "metadata": {
      "needs_background": "light"
     },
     "output_type": "display_data"
    }
   ],
   "source": [
    "plt.scatter(train.ENGINESIZE, train.CO2EMISSIONS,  color='blue')\n",
    "plt.plot(train_x, regr.coef_[0][0]*train_x + regr.intercept_[0], '-r')\n",
    "plt.xlabel(\"Engine size\")\n",
    "plt.ylabel(\"Emission\")"
   ]
  },
  {
   "cell_type": "markdown",
   "metadata": {
    "button": false,
    "new_sheet": false,
    "run_control": {
     "read_only": false
    }
   },
   "source": [
    "#### Evaluation\n",
    "\n",
    "We compare the actual values and predicted values to calculate the accuracy of a regression model. Evaluation metrics provide a key role in the development of a model, as it provides insight to areas that require improvement.\n",
    "\n",
    "There are different model evaluation metrics, lets use MSE here to calculate the accuracy of our model based on the test set:\n",
    "\n",
    "*   Mean Absolute Error: It is the mean of the absolute value of the errors. This is the easiest of the metrics to understand since it’s just average error.\n",
    "\n",
    "*   Mean Squared Error (MSE): Mean Squared Error (MSE) is the mean of the squared error. It’s more popular than Mean Absolute Error because the focus is geared more towards large errors. This is due to the squared term exponentially increasing larger errors in comparison to smaller ones.\n",
    "\n",
    "*   Root Mean Squared Error (RMSE).\n",
    "\n",
    "*   R-squared is not an error, but rather a popular metric to measure the performance of your regression model. It represents how close the data points are to the fitted regression line. The higher the R-squared value, the better the model fits your data. The best possible score is 1.0 and it can be negative (because the model can be arbitrarily worse).\n"
   ]
  },
  {
   "cell_type": "code",
   "execution_count": 14,
   "metadata": {
    "button": false,
    "new_sheet": false,
    "run_control": {
     "read_only": false
    },
    "scrolled": true
   },
   "outputs": [
    {
     "name": "stdout",
     "output_type": "stream",
     "text": [
      "Mean absolute error: 25.71\n",
      "Residual sum of squares (MSE): 1129.31\n",
      "R2-score: 0.70\n"
     ]
    }
   ],
   "source": [
    "from sklearn.metrics import r2_score\n",
    "\n",
    "test_x = np.asanyarray(test[['ENGINESIZE']])\n",
    "test_y = np.asanyarray(test[['CO2EMISSIONS']])\n",
    "test_y_ = regr.predict(test_x)\n",
    "\n",
    "print(\"Mean absolute error: %.2f\" % np.mean(np.absolute(test_y_ - test_y)))\n",
    "print(\"Residual sum of squares (MSE): %.2f\" % np.mean((test_y_ - test_y) ** 2))\n",
    "print(\"R2-score: %.2f\" % r2_score(test_y , test_y_) )"
   ]
  },
  {
   "cell_type": "markdown",
   "metadata": {},
   "source": [
    "## Exercise\n"
   ]
  },
  {
   "cell_type": "markdown",
   "metadata": {},
   "source": [
    "Lets see what the evaluation metrics are if we trained a regression model using the `FUELCONSUMPTION_COMB` feature.\n",
    "\n",
    "Start by selecting `FUELCONSUMPTION_COMB` as the train_x data from the `train` dataframe, then select `FUELCONSUMPTION_COMB` as the test_x data from the `test` dataframe\n"
   ]
  },
  {
   "cell_type": "code",
   "execution_count": 15,
   "metadata": {},
   "outputs": [
    {
     "data": {
      "text/plain": [
       "1        9.6\n",
       "2        5.9\n",
       "3       11.1\n",
       "4       10.6\n",
       "5       10.0\n",
       "        ... \n",
       "1059    10.2\n",
       "1060    11.5\n",
       "1061    11.2\n",
       "1063    11.5\n",
       "1064    11.8\n",
       "Name: FUELCONSUMPTION_COMB, Length: 878, dtype: float64"
      ]
     },
     "execution_count": 15,
     "metadata": {},
     "output_type": "execute_result"
    }
   ],
   "source": [
    "train['FUELCONSUMPTION_COMB']"
   ]
  },
  {
   "cell_type": "code",
   "execution_count": 16,
   "metadata": {},
   "outputs": [
    {
     "data": {
      "text/html": [
       "<div>\n",
       "<style scoped>\n",
       "    .dataframe tbody tr th:only-of-type {\n",
       "        vertical-align: middle;\n",
       "    }\n",
       "\n",
       "    .dataframe tbody tr th {\n",
       "        vertical-align: top;\n",
       "    }\n",
       "\n",
       "    .dataframe thead th {\n",
       "        text-align: right;\n",
       "    }\n",
       "</style>\n",
       "<table border=\"1\" class=\"dataframe\">\n",
       "  <thead>\n",
       "    <tr style=\"text-align: right;\">\n",
       "      <th></th>\n",
       "      <th>FUELCONSUMPTION_COMB</th>\n",
       "    </tr>\n",
       "  </thead>\n",
       "  <tbody>\n",
       "    <tr>\n",
       "      <th>1</th>\n",
       "      <td>9.6</td>\n",
       "    </tr>\n",
       "    <tr>\n",
       "      <th>2</th>\n",
       "      <td>5.9</td>\n",
       "    </tr>\n",
       "    <tr>\n",
       "      <th>3</th>\n",
       "      <td>11.1</td>\n",
       "    </tr>\n",
       "    <tr>\n",
       "      <th>4</th>\n",
       "      <td>10.6</td>\n",
       "    </tr>\n",
       "    <tr>\n",
       "      <th>5</th>\n",
       "      <td>10.0</td>\n",
       "    </tr>\n",
       "    <tr>\n",
       "      <th>...</th>\n",
       "      <td>...</td>\n",
       "    </tr>\n",
       "    <tr>\n",
       "      <th>1059</th>\n",
       "      <td>10.2</td>\n",
       "    </tr>\n",
       "    <tr>\n",
       "      <th>1060</th>\n",
       "      <td>11.5</td>\n",
       "    </tr>\n",
       "    <tr>\n",
       "      <th>1061</th>\n",
       "      <td>11.2</td>\n",
       "    </tr>\n",
       "    <tr>\n",
       "      <th>1063</th>\n",
       "      <td>11.5</td>\n",
       "    </tr>\n",
       "    <tr>\n",
       "      <th>1064</th>\n",
       "      <td>11.8</td>\n",
       "    </tr>\n",
       "  </tbody>\n",
       "</table>\n",
       "<p>878 rows × 1 columns</p>\n",
       "</div>"
      ],
      "text/plain": [
       "      FUELCONSUMPTION_COMB\n",
       "1                      9.6\n",
       "2                      5.9\n",
       "3                     11.1\n",
       "4                     10.6\n",
       "5                     10.0\n",
       "...                    ...\n",
       "1059                  10.2\n",
       "1060                  11.5\n",
       "1061                  11.2\n",
       "1063                  11.5\n",
       "1064                  11.8\n",
       "\n",
       "[878 rows x 1 columns]"
      ]
     },
     "execution_count": 16,
     "metadata": {},
     "output_type": "execute_result"
    }
   ],
   "source": [
    "train[['FUELCONSUMPTION_COMB']]"
   ]
  },
  {
   "cell_type": "code",
   "execution_count": 17,
   "metadata": {},
   "outputs": [
    {
     "data": {
      "text/plain": [
       "array([[ 9.6],\n",
       "       [ 5.9],\n",
       "       [11.1],\n",
       "       [10.6],\n",
       "       [10. ],\n",
       "       [10.1],\n",
       "       [11.6],\n",
       "       [ 9.2],\n",
       "       [ 9.8],\n",
       "       [10.4],\n",
       "       [15.6],\n",
       "       [14.7],\n",
       "       [15.4],\n",
       "       [14.7],\n",
       "       [15.4],\n",
       "       [15.6],\n",
       "       [ 9.3],\n",
       "       [10. ],\n",
       "       [ 9.3],\n",
       "       [10.9],\n",
       "       [ 8.3],\n",
       "       [11.2],\n",
       "       [ 8.3],\n",
       "       [11.2],\n",
       "       [11.3],\n",
       "       [ 8.4],\n",
       "       [11.2],\n",
       "       [15.7],\n",
       "       [10.5],\n",
       "       [10.4],\n",
       "       [11.2],\n",
       "       [ 9.1],\n",
       "       [14.6],\n",
       "       [17.7],\n",
       "       [15.4],\n",
       "       [17.8],\n",
       "       [17.7],\n",
       "       [17.8],\n",
       "       [13.3],\n",
       "       [13.4],\n",
       "       [11.4],\n",
       "       [11.6],\n",
       "       [12.2],\n",
       "       [12.2],\n",
       "       [12.9],\n",
       "       [12.7],\n",
       "       [ 9.1],\n",
       "       [ 9.1],\n",
       "       [10.3],\n",
       "       [10.3],\n",
       "       [15.5],\n",
       "       [13.9],\n",
       "       [16.5],\n",
       "       [14. ],\n",
       "       [16.5],\n",
       "       [16.5],\n",
       "       [ 8.4],\n",
       "       [ 8.7],\n",
       "       [ 8.8],\n",
       "       [ 6.7],\n",
       "       [ 6.7],\n",
       "       [ 8.4],\n",
       "       [ 8.7],\n",
       "       [ 9.1],\n",
       "       [ 9.6],\n",
       "       [10. ],\n",
       "       [ 9.9],\n",
       "       [10.3],\n",
       "       [10.1],\n",
       "       [ 8.4],\n",
       "       [ 8.7],\n",
       "       [ 9.1],\n",
       "       [ 9.6],\n",
       "       [ 9.9],\n",
       "       [10.3],\n",
       "       [ 7.9],\n",
       "       [10.7],\n",
       "       [12.2],\n",
       "       [12.7],\n",
       "       [10.1],\n",
       "       [12.2],\n",
       "       [12.7],\n",
       "       [10.7],\n",
       "       [12.7],\n",
       "       [15.5],\n",
       "       [ 9.3],\n",
       "       [ 9.2],\n",
       "       [12.7],\n",
       "       [14.7],\n",
       "       [13.8],\n",
       "       [13.8],\n",
       "       [13.8],\n",
       "       [14.7],\n",
       "       [ 9.1],\n",
       "       [10. ],\n",
       "       [11. ],\n",
       "       [11.1],\n",
       "       [13.9],\n",
       "       [16.1],\n",
       "       [11.9],\n",
       "       [14.1],\n",
       "       [ 9.1],\n",
       "       [12.1],\n",
       "       [11. ],\n",
       "       [12.1],\n",
       "       [12.3],\n",
       "       [12.6],\n",
       "       [ 8.5],\n",
       "       [ 9.2],\n",
       "       [11.5],\n",
       "       [15.6],\n",
       "       [11.5],\n",
       "       [16.5],\n",
       "       [ 8.2],\n",
       "       [ 9.9],\n",
       "       [ 9.8],\n",
       "       [10.7],\n",
       "       [ 8.2],\n",
       "       [ 9.8],\n",
       "       [ 9.5],\n",
       "       [ 9.6],\n",
       "       [10.2],\n",
       "       [ 9. ],\n",
       "       [10.9],\n",
       "       [10.1],\n",
       "       [11.3],\n",
       "       [11.2],\n",
       "       [11.4],\n",
       "       [10.1],\n",
       "       [10.8],\n",
       "       [10.8],\n",
       "       [11.3],\n",
       "       [12.8],\n",
       "       [11. ],\n",
       "       [11.3],\n",
       "       [11.4],\n",
       "       [14.8],\n",
       "       [16.6],\n",
       "       [14.8],\n",
       "       [14.8],\n",
       "       [14.7],\n",
       "       [20.1],\n",
       "       [16.4],\n",
       "       [22.1],\n",
       "       [12.8],\n",
       "       [11.4],\n",
       "       [11.8],\n",
       "       [12.6],\n",
       "       [11.2],\n",
       "       [11.7],\n",
       "       [10.5],\n",
       "       [16.6],\n",
       "       [14.8],\n",
       "       [11.2],\n",
       "       [ 7.8],\n",
       "       [ 7.8],\n",
       "       [ 8.2],\n",
       "       [ 7.1],\n",
       "       [ 7.7],\n",
       "       [ 7.1],\n",
       "       [ 9.1],\n",
       "       [12. ],\n",
       "       [16.2],\n",
       "       [10. ],\n",
       "       [12.6],\n",
       "       [17. ],\n",
       "       [15.1],\n",
       "       [20.9],\n",
       "       [16.5],\n",
       "       [21.5],\n",
       "       [16.5],\n",
       "       [21.5],\n",
       "       [16.5],\n",
       "       [22.6],\n",
       "       [16.5],\n",
       "       [16.5],\n",
       "       [18. ],\n",
       "       [18.8],\n",
       "       [25.7],\n",
       "       [18.2],\n",
       "       [18.9],\n",
       "       [ 9.6],\n",
       "       [14.3],\n",
       "       [10.6],\n",
       "       [16.8],\n",
       "       [12.7],\n",
       "       [16.9],\n",
       "       [14.1],\n",
       "       [17.8],\n",
       "       [13. ],\n",
       "       [ 8. ],\n",
       "       [ 7.5],\n",
       "       [ 8.3],\n",
       "       [ 7.9],\n",
       "       [ 8.3],\n",
       "       [ 7.9],\n",
       "       [ 8.3],\n",
       "       [ 7.9],\n",
       "       [ 8.3],\n",
       "       [ 7.9],\n",
       "       [ 6.9],\n",
       "       [ 6.9],\n",
       "       [13.8],\n",
       "       [18.4],\n",
       "       [18.4],\n",
       "       [13.8],\n",
       "       [18.4],\n",
       "       [13.8],\n",
       "       [18.4],\n",
       "       [12.3],\n",
       "       [12.6],\n",
       "       [ 8.4],\n",
       "       [ 8.1],\n",
       "       [ 9. ],\n",
       "       [10.1],\n",
       "       [10.7],\n",
       "       [10.5],\n",
       "       [ 9.8],\n",
       "       [10. ],\n",
       "       [10.5],\n",
       "       [14.4],\n",
       "       [12.8],\n",
       "       [10.9],\n",
       "       [13.4],\n",
       "       [10.9],\n",
       "       [14.8],\n",
       "       [10.3],\n",
       "       [13.8],\n",
       "       [12. ],\n",
       "       [16.8],\n",
       "       [10. ],\n",
       "       [10.5],\n",
       "       [11.2],\n",
       "       [13.1],\n",
       "       [13.9],\n",
       "       [13.8],\n",
       "       [11.2],\n",
       "       [10.3],\n",
       "       [12.8],\n",
       "       [10.9],\n",
       "       [13.4],\n",
       "       [10.9],\n",
       "       [14.8],\n",
       "       [15.7],\n",
       "       [10.2],\n",
       "       [13.9],\n",
       "       [13.8],\n",
       "       [ 8.1],\n",
       "       [ 8.6],\n",
       "       [ 8.8],\n",
       "       [ 8.6],\n",
       "       [12.2],\n",
       "       [ 9.2],\n",
       "       [ 8.8],\n",
       "       [ 7.3],\n",
       "       [ 7.3],\n",
       "       [14.4],\n",
       "       [12.1],\n",
       "       [15.6],\n",
       "       [16.5],\n",
       "       [12.4],\n",
       "       [12. ],\n",
       "       [16.2],\n",
       "       [ 7.8],\n",
       "       [ 7.8],\n",
       "       [ 7.9],\n",
       "       [ 7.2],\n",
       "       [ 7.8],\n",
       "       [ 7.9],\n",
       "       [ 6.8],\n",
       "       [ 8.4],\n",
       "       [ 6. ],\n",
       "       [16.2],\n",
       "       [17.2],\n",
       "       [16.8],\n",
       "       [23. ],\n",
       "       [21.2],\n",
       "       [18.3],\n",
       "       [23.9],\n",
       "       [ 9.8],\n",
       "       [10.8],\n",
       "       [11.5],\n",
       "       [12.2],\n",
       "       [ 9.6],\n",
       "       [ 9.4],\n",
       "       [ 9.3],\n",
       "       [21.6],\n",
       "       [10.2],\n",
       "       [11.9],\n",
       "       [15.9],\n",
       "       [12.5],\n",
       "       [16.7],\n",
       "       [12.7],\n",
       "       [12.8],\n",
       "       [15.9],\n",
       "       [13.8],\n",
       "       [13.4],\n",
       "       [17.5],\n",
       "       [12.3],\n",
       "       [16.5],\n",
       "       [16.5],\n",
       "       [14.6],\n",
       "       [19.7],\n",
       "       [14.6],\n",
       "       [19.7],\n",
       "       [13.4],\n",
       "       [18. ],\n",
       "       [13.4],\n",
       "       [18. ],\n",
       "       [14.9],\n",
       "       [20. ],\n",
       "       [14.8],\n",
       "       [19.9],\n",
       "       [18. ],\n",
       "       [ 7.6],\n",
       "       [ 7.6],\n",
       "       [ 7. ],\n",
       "       [ 8. ],\n",
       "       [11.5],\n",
       "       [12.1],\n",
       "       [12.8],\n",
       "       [ 8.9],\n",
       "       [ 7.7],\n",
       "       [10.3],\n",
       "       [10.3],\n",
       "       [ 8. ],\n",
       "       [10.6],\n",
       "       [10.1],\n",
       "       [ 8.5],\n",
       "       [ 8.1],\n",
       "       [ 9. ],\n",
       "       [ 8.1],\n",
       "       [ 9.4],\n",
       "       [10.2],\n",
       "       [10.6],\n",
       "       [12.7],\n",
       "       [13.2],\n",
       "       [10.6],\n",
       "       [ 9.1],\n",
       "       [11.8],\n",
       "       [10.3],\n",
       "       [14.3],\n",
       "       [11.2],\n",
       "       [15.7],\n",
       "       [ 9.5],\n",
       "       [ 9.9],\n",
       "       [10.1],\n",
       "       [10.4],\n",
       "       [12.9],\n",
       "       [15.1],\n",
       "       [16.5],\n",
       "       [21.5],\n",
       "       [16.5],\n",
       "       [21.5],\n",
       "       [16.5],\n",
       "       [22.6],\n",
       "       [16.5],\n",
       "       [21.5],\n",
       "       [18. ],\n",
       "       [18.8],\n",
       "       [25.7],\n",
       "       [18.2],\n",
       "       [18.9],\n",
       "       [25.8],\n",
       "       [11.8],\n",
       "       [16.8],\n",
       "       [12.7],\n",
       "       [16.9],\n",
       "       [14.1],\n",
       "       [12.6],\n",
       "       [17.8],\n",
       "       [17.3],\n",
       "       [14.3],\n",
       "       [ 9.1],\n",
       "       [12. ],\n",
       "       [16.2],\n",
       "       [10. ],\n",
       "       [12.6],\n",
       "       [17. ],\n",
       "       [18.4],\n",
       "       [13.8],\n",
       "       [18.4],\n",
       "       [14.7],\n",
       "       [20.1],\n",
       "       [16.4],\n",
       "       [22.1],\n",
       "       [13.8],\n",
       "       [18.4],\n",
       "       [13.8],\n",
       "       [18.4],\n",
       "       [ 7.9],\n",
       "       [ 8.1],\n",
       "       [ 9.6],\n",
       "       [10.9],\n",
       "       [ 7. ],\n",
       "       [ 7.2],\n",
       "       [10.7],\n",
       "       [ 9.4],\n",
       "       [ 6.3],\n",
       "       [ 6.9],\n",
       "       [ 7.5],\n",
       "       [ 7.7],\n",
       "       [10.6],\n",
       "       [11.5],\n",
       "       [12. ],\n",
       "       [13.4],\n",
       "       [ 7.7],\n",
       "       [ 7.7],\n",
       "       [ 8.6],\n",
       "       [ 8.5],\n",
       "       [13.2],\n",
       "       [11.1],\n",
       "       [11.2],\n",
       "       [11.6],\n",
       "       [10.3],\n",
       "       [11.1],\n",
       "       [ 9.6],\n",
       "       [ 6.2],\n",
       "       [ 6.3],\n",
       "       [ 9.3],\n",
       "       [10.5],\n",
       "       [10.6],\n",
       "       [ 7.7],\n",
       "       [ 8. ],\n",
       "       [ 8.8],\n",
       "       [ 8.5],\n",
       "       [10.2],\n",
       "       [10.8],\n",
       "       [ 7.5],\n",
       "       [11.5],\n",
       "       [11.7],\n",
       "       [12.3],\n",
       "       [11. ],\n",
       "       [12.3],\n",
       "       [11.6],\n",
       "       [11.8],\n",
       "       [10.6],\n",
       "       [ 8.5],\n",
       "       [12.8],\n",
       "       [14.5],\n",
       "       [15. ],\n",
       "       [10.3],\n",
       "       [10.6],\n",
       "       [12.8],\n",
       "       [13.3],\n",
       "       [12.4],\n",
       "       [13.3],\n",
       "       [12.4],\n",
       "       [13.3],\n",
       "       [13.3],\n",
       "       [13.3],\n",
       "       [13.1],\n",
       "       [12.6],\n",
       "       [13.7],\n",
       "       [13.5],\n",
       "       [13.7],\n",
       "       [13.5],\n",
       "       [ 9.5],\n",
       "       [10.5],\n",
       "       [10.8],\n",
       "       [10.1],\n",
       "       [11. ],\n",
       "       [10.9],\n",
       "       [11.6],\n",
       "       [ 9.8],\n",
       "       [ 9.1],\n",
       "       [ 9.8],\n",
       "       [ 9.4],\n",
       "       [10.2],\n",
       "       [ 9.4],\n",
       "       [ 9.9],\n",
       "       [12.1],\n",
       "       [15.6],\n",
       "       [15.8],\n",
       "       [ 9.8],\n",
       "       [ 9.1],\n",
       "       [ 9.8],\n",
       "       [ 9.4],\n",
       "       [10.2],\n",
       "       [ 9.4],\n",
       "       [11.1],\n",
       "       [12.8],\n",
       "       [13.4],\n",
       "       [13.4],\n",
       "       [ 8. ],\n",
       "       [ 8.4],\n",
       "       [ 8.4],\n",
       "       [ 9.7],\n",
       "       [ 9.8],\n",
       "       [ 8.4],\n",
       "       [ 9.4],\n",
       "       [ 9.6],\n",
       "       [ 8.4],\n",
       "       [ 8.6],\n",
       "       [ 9.9],\n",
       "       [ 8.7],\n",
       "       [ 7.6],\n",
       "       [ 7.7],\n",
       "       [ 7.6],\n",
       "       [ 9.2],\n",
       "       [12. ],\n",
       "       [11.4],\n",
       "       [11. ],\n",
       "       [11.8],\n",
       "       [ 8.9],\n",
       "       [ 9.1],\n",
       "       [ 8.8],\n",
       "       [10. ],\n",
       "       [11.4],\n",
       "       [10.7],\n",
       "       [18.3],\n",
       "       [15.7],\n",
       "       [17.4],\n",
       "       [11.9],\n",
       "       [14.5],\n",
       "       [ 9.8],\n",
       "       [ 9.8],\n",
       "       [15.1],\n",
       "       [21.4],\n",
       "       [12.4],\n",
       "       [12.4],\n",
       "       [17.4],\n",
       "       [15. ],\n",
       "       [14.7],\n",
       "       [20.7],\n",
       "       [12.3],\n",
       "       [12.3],\n",
       "       [17.3],\n",
       "       [15.1],\n",
       "       [21.4],\n",
       "       [ 5.6],\n",
       "       [ 6. ],\n",
       "       [ 9.6],\n",
       "       [10.4],\n",
       "       [13.9],\n",
       "       [ 9.7],\n",
       "       [10.4],\n",
       "       [10.6],\n",
       "       [11. ],\n",
       "       [12.6],\n",
       "       [12.3],\n",
       "       [12.9],\n",
       "       [11.4],\n",
       "       [16.5],\n",
       "       [11.7],\n",
       "       [ 8.2],\n",
       "       [11.8],\n",
       "       [11.3],\n",
       "       [12.8],\n",
       "       [10.2],\n",
       "       [12.2],\n",
       "       [12.2],\n",
       "       [11.4],\n",
       "       [ 6.3],\n",
       "       [16. ],\n",
       "       [21.6],\n",
       "       [12.7],\n",
       "       [12.7],\n",
       "       [15.1],\n",
       "       [15.3],\n",
       "       [14.5],\n",
       "       [ 8. ],\n",
       "       [ 8.6],\n",
       "       [ 8.5],\n",
       "       [ 8.9],\n",
       "       [12.3],\n",
       "       [12.6],\n",
       "       [ 7.7],\n",
       "       [ 7.4],\n",
       "       [ 6.9],\n",
       "       [ 7. ],\n",
       "       [ 7.4],\n",
       "       [ 7.3],\n",
       "       [ 7. ],\n",
       "       [ 7.1],\n",
       "       [ 7.2],\n",
       "       [ 7.7],\n",
       "       [ 7.3],\n",
       "       [ 7.2],\n",
       "       [ 9.7],\n",
       "       [ 9.8],\n",
       "       [ 7.6],\n",
       "       [ 8.1],\n",
       "       [10.2],\n",
       "       [ 9.9],\n",
       "       [ 8. ],\n",
       "       [ 9.4],\n",
       "       [ 9.4],\n",
       "       [10.5],\n",
       "       [14. ],\n",
       "       [10.5],\n",
       "       [10.4],\n",
       "       [10.6],\n",
       "       [10.5],\n",
       "       [15.1],\n",
       "       [15.3],\n",
       "       [13.2],\n",
       "       [13.4],\n",
       "       [ 7.8],\n",
       "       [ 9.2],\n",
       "       [11.5],\n",
       "       [13.1],\n",
       "       [ 7.2],\n",
       "       [10.2],\n",
       "       [10.4],\n",
       "       [10.5],\n",
       "       [10.4],\n",
       "       [10.2],\n",
       "       [ 8.8],\n",
       "       [11.6],\n",
       "       [11.7],\n",
       "       [11.4],\n",
       "       [12.9],\n",
       "       [13.5],\n",
       "       [13.5],\n",
       "       [17.7],\n",
       "       [12. ],\n",
       "       [15.2],\n",
       "       [15.6],\n",
       "       [15.8],\n",
       "       [ 8.5],\n",
       "       [11.3],\n",
       "       [16. ],\n",
       "       [10.3],\n",
       "       [14.2],\n",
       "       [15.5],\n",
       "       [12. ],\n",
       "       [13.2],\n",
       "       [11.7],\n",
       "       [14.2],\n",
       "       [ 8.9],\n",
       "       [ 9. ],\n",
       "       [ 9.8],\n",
       "       [10.7],\n",
       "       [15.7],\n",
       "       [15.7],\n",
       "       [ 7.8],\n",
       "       [ 7.8],\n",
       "       [ 7.8],\n",
       "       [ 7.8],\n",
       "       [ 8.7],\n",
       "       [ 7.8],\n",
       "       [ 7.6],\n",
       "       [ 7.3],\n",
       "       [ 8.7],\n",
       "       [ 7.8],\n",
       "       [ 7.8],\n",
       "       [ 7.8],\n",
       "       [ 8.3],\n",
       "       [ 8. ],\n",
       "       [ 8.3],\n",
       "       [ 8. ],\n",
       "       [ 9. ],\n",
       "       [ 8.3],\n",
       "       [ 8. ],\n",
       "       [ 9. ],\n",
       "       [ 8.5],\n",
       "       [ 8.3],\n",
       "       [ 8. ],\n",
       "       [ 8.3],\n",
       "       [ 8. ],\n",
       "       [ 8. ],\n",
       "       [ 8.5],\n",
       "       [ 8.3],\n",
       "       [ 8. ],\n",
       "       [ 9. ],\n",
       "       [ 8.3],\n",
       "       [ 8. ],\n",
       "       [ 8.2],\n",
       "       [ 8.3],\n",
       "       [ 9.5],\n",
       "       [11.6],\n",
       "       [ 8.6],\n",
       "       [ 8.6],\n",
       "       [ 6. ],\n",
       "       [ 8.6],\n",
       "       [ 9.1],\n",
       "       [10.2],\n",
       "       [ 8.7],\n",
       "       [ 8.8],\n",
       "       [ 9. ],\n",
       "       [11. ],\n",
       "       [11.5],\n",
       "       [11.4],\n",
       "       [11.7],\n",
       "       [ 9.3],\n",
       "       [12.3],\n",
       "       [11.3],\n",
       "       [13.7],\n",
       "       [13.1],\n",
       "       [12.9],\n",
       "       [ 8.1],\n",
       "       [ 8.6],\n",
       "       [ 8.7],\n",
       "       [10.9],\n",
       "       [11.8],\n",
       "       [ 9.3],\n",
       "       [10.6],\n",
       "       [11. ],\n",
       "       [ 8.8],\n",
       "       [11.1],\n",
       "       [ 8.3],\n",
       "       [ 7. ],\n",
       "       [ 7.8],\n",
       "       [15.6],\n",
       "       [17.3],\n",
       "       [ 6.6],\n",
       "       [ 7.7],\n",
       "       [14.2],\n",
       "       [13.7],\n",
       "       [10.1],\n",
       "       [10.7],\n",
       "       [10.3],\n",
       "       [10.5],\n",
       "       [11. ],\n",
       "       [10.8],\n",
       "       [11. ],\n",
       "       [11. ],\n",
       "       [11.2],\n",
       "       [10.1],\n",
       "       [10.7],\n",
       "       [10.6],\n",
       "       [10.8],\n",
       "       [10.7],\n",
       "       [10.9],\n",
       "       [11.9],\n",
       "       [11.9],\n",
       "       [11.9],\n",
       "       [ 9.2],\n",
       "       [ 9.9],\n",
       "       [ 9.8],\n",
       "       [10.4],\n",
       "       [12. ],\n",
       "       [13.6],\n",
       "       [10.4],\n",
       "       [13.9],\n",
       "       [13.7],\n",
       "       [ 9.2],\n",
       "       [ 9.9],\n",
       "       [ 9.8],\n",
       "       [10.4],\n",
       "       [10.9],\n",
       "       [11.3],\n",
       "       [12.7],\n",
       "       [11.3],\n",
       "       [12.8],\n",
       "       [12.9],\n",
       "       [13.6],\n",
       "       [15.4],\n",
       "       [14.1],\n",
       "       [10.6],\n",
       "       [12.6],\n",
       "       [17.8],\n",
       "       [10.2],\n",
       "       [11.9],\n",
       "       [16.8],\n",
       "       [11.3],\n",
       "       [11.4],\n",
       "       [15.9],\n",
       "       [16. ],\n",
       "       [17.1],\n",
       "       [17.1],\n",
       "       [17.1],\n",
       "       [17.1],\n",
       "       [15.6],\n",
       "       [ 8.4],\n",
       "       [ 9.5],\n",
       "       [ 6.2],\n",
       "       [ 9. ],\n",
       "       [ 9. ],\n",
       "       [ 9.9],\n",
       "       [ 9.9],\n",
       "       [ 8. ],\n",
       "       [ 6.4],\n",
       "       [16.9],\n",
       "       [16.9],\n",
       "       [ 8.5],\n",
       "       [ 9.6],\n",
       "       [ 9.5],\n",
       "       [ 8.6],\n",
       "       [ 7.8],\n",
       "       [ 8.5],\n",
       "       [11.2],\n",
       "       [12.5],\n",
       "       [ 7.8],\n",
       "       [ 8.5],\n",
       "       [11.2],\n",
       "       [ 8.6],\n",
       "       [11.6],\n",
       "       [ 9. ],\n",
       "       [ 9.8],\n",
       "       [11.7],\n",
       "       [13.1],\n",
       "       [ 8.5],\n",
       "       [ 9.2],\n",
       "       [ 7.7],\n",
       "       [12.9],\n",
       "       [12.9],\n",
       "       [ 9.6],\n",
       "       [ 8.2],\n",
       "       [ 9.6],\n",
       "       [ 5.7],\n",
       "       [ 7.7],\n",
       "       [ 7.3],\n",
       "       [ 7.1],\n",
       "       [ 7.4],\n",
       "       [ 6.8],\n",
       "       [ 6.9],\n",
       "       [ 8.5],\n",
       "       [13.9],\n",
       "       [10.3],\n",
       "       [11.2],\n",
       "       [11.5],\n",
       "       [ 8.3],\n",
       "       [ 8.2],\n",
       "       [ 4.8],\n",
       "       [ 4.7],\n",
       "       [ 5.5],\n",
       "       [ 8.9],\n",
       "       [ 9.5],\n",
       "       [16.7],\n",
       "       [11.3],\n",
       "       [13.1],\n",
       "       [11.9],\n",
       "       [11.8],\n",
       "       [13.3],\n",
       "       [14. ],\n",
       "       [13.5],\n",
       "       [14.3],\n",
       "       [15.5],\n",
       "       [16.2],\n",
       "       [10. ],\n",
       "       [11. ],\n",
       "       [10.2],\n",
       "       [11.3],\n",
       "       [ 7.3],\n",
       "       [ 7.1],\n",
       "       [ 8.5],\n",
       "       [ 8.7],\n",
       "       [ 9.8],\n",
       "       [ 9.3],\n",
       "       [ 9.4],\n",
       "       [10.1],\n",
       "       [ 7.3],\n",
       "       [ 7.3],\n",
       "       [ 9.7],\n",
       "       [ 9.8],\n",
       "       [12.3],\n",
       "       [ 9.6],\n",
       "       [ 9.5],\n",
       "       [ 9.4],\n",
       "       [ 6.9],\n",
       "       [ 8.2],\n",
       "       [ 9.4],\n",
       "       [ 9. ],\n",
       "       [ 9. ],\n",
       "       [ 9.2],\n",
       "       [ 6.9],\n",
       "       [ 6.9],\n",
       "       [ 5.4],\n",
       "       [ 8.6],\n",
       "       [ 8.6],\n",
       "       [ 9.7],\n",
       "       [10.8],\n",
       "       [ 7.1],\n",
       "       [ 6.8],\n",
       "       [12.1],\n",
       "       [10.7],\n",
       "       [11.6],\n",
       "       [10.7],\n",
       "       [12.2],\n",
       "       [10.4],\n",
       "       [11.5],\n",
       "       [10.2],\n",
       "       [11.5],\n",
       "       [11.2],\n",
       "       [11.5],\n",
       "       [11.8]])"
      ]
     },
     "execution_count": 17,
     "metadata": {},
     "output_type": "execute_result"
    }
   ],
   "source": [
    "np.asanyarray(train[['FUELCONSUMPTION_COMB']])"
   ]
  },
  {
   "cell_type": "code",
   "execution_count": null,
   "metadata": {},
   "outputs": [],
   "source": []
  },
  {
   "cell_type": "code",
   "execution_count": 18,
   "metadata": {},
   "outputs": [],
   "source": [
    "train_x = np.asanyarray(train[['FUELCONSUMPTION_COMB']]) #ADD CODE\n",
    "\n",
    "test_x = np.asanyarray(test[['FUELCONSUMPTION_COMB']]) #ADD CODE"
   ]
  },
  {
   "cell_type": "markdown",
   "metadata": {},
   "source": [
    "<details><summary>Click here for the solution</summary>\n",
    "\n",
    "```python\n",
    "train_x = train[[\"FUELCONSUMPTION_COMB\"]]\n",
    "\n",
    "test_x = test[[\"FUELCONSUMPTION_COMB\"]]\n",
    "\n",
    "```\n",
    "\n",
    "</details>\n"
   ]
  },
  {
   "cell_type": "markdown",
   "metadata": {},
   "source": [
    "Now train a Linear Regression Model using the `train_x` you created and the `train_y` created previously\n"
   ]
  },
  {
   "cell_type": "code",
   "execution_count": 19,
   "metadata": {},
   "outputs": [
    {
     "data": {
      "text/html": [
       "<style>#sk-container-id-1 {color: black;background-color: white;}#sk-container-id-1 pre{padding: 0;}#sk-container-id-1 div.sk-toggleable {background-color: white;}#sk-container-id-1 label.sk-toggleable__label {cursor: pointer;display: block;width: 100%;margin-bottom: 0;padding: 0.3em;box-sizing: border-box;text-align: center;}#sk-container-id-1 label.sk-toggleable__label-arrow:before {content: \"▸\";float: left;margin-right: 0.25em;color: #696969;}#sk-container-id-1 label.sk-toggleable__label-arrow:hover:before {color: black;}#sk-container-id-1 div.sk-estimator:hover label.sk-toggleable__label-arrow:before {color: black;}#sk-container-id-1 div.sk-toggleable__content {max-height: 0;max-width: 0;overflow: hidden;text-align: left;background-color: #f0f8ff;}#sk-container-id-1 div.sk-toggleable__content pre {margin: 0.2em;color: black;border-radius: 0.25em;background-color: #f0f8ff;}#sk-container-id-1 input.sk-toggleable__control:checked~div.sk-toggleable__content {max-height: 200px;max-width: 100%;overflow: auto;}#sk-container-id-1 input.sk-toggleable__control:checked~label.sk-toggleable__label-arrow:before {content: \"▾\";}#sk-container-id-1 div.sk-estimator input.sk-toggleable__control:checked~label.sk-toggleable__label {background-color: #d4ebff;}#sk-container-id-1 div.sk-label input.sk-toggleable__control:checked~label.sk-toggleable__label {background-color: #d4ebff;}#sk-container-id-1 input.sk-hidden--visually {border: 0;clip: rect(1px 1px 1px 1px);clip: rect(1px, 1px, 1px, 1px);height: 1px;margin: -1px;overflow: hidden;padding: 0;position: absolute;width: 1px;}#sk-container-id-1 div.sk-estimator {font-family: monospace;background-color: #f0f8ff;border: 1px dotted black;border-radius: 0.25em;box-sizing: border-box;margin-bottom: 0.5em;}#sk-container-id-1 div.sk-estimator:hover {background-color: #d4ebff;}#sk-container-id-1 div.sk-parallel-item::after {content: \"\";width: 100%;border-bottom: 1px solid gray;flex-grow: 1;}#sk-container-id-1 div.sk-label:hover label.sk-toggleable__label {background-color: #d4ebff;}#sk-container-id-1 div.sk-serial::before {content: \"\";position: absolute;border-left: 1px solid gray;box-sizing: border-box;top: 0;bottom: 0;left: 50%;z-index: 0;}#sk-container-id-1 div.sk-serial {display: flex;flex-direction: column;align-items: center;background-color: white;padding-right: 0.2em;padding-left: 0.2em;position: relative;}#sk-container-id-1 div.sk-item {position: relative;z-index: 1;}#sk-container-id-1 div.sk-parallel {display: flex;align-items: stretch;justify-content: center;background-color: white;position: relative;}#sk-container-id-1 div.sk-item::before, #sk-container-id-1 div.sk-parallel-item::before {content: \"\";position: absolute;border-left: 1px solid gray;box-sizing: border-box;top: 0;bottom: 0;left: 50%;z-index: -1;}#sk-container-id-1 div.sk-parallel-item {display: flex;flex-direction: column;z-index: 1;position: relative;background-color: white;}#sk-container-id-1 div.sk-parallel-item:first-child::after {align-self: flex-end;width: 50%;}#sk-container-id-1 div.sk-parallel-item:last-child::after {align-self: flex-start;width: 50%;}#sk-container-id-1 div.sk-parallel-item:only-child::after {width: 0;}#sk-container-id-1 div.sk-dashed-wrapped {border: 1px dashed gray;margin: 0 0.4em 0.5em 0.4em;box-sizing: border-box;padding-bottom: 0.4em;background-color: white;}#sk-container-id-1 div.sk-label label {font-family: monospace;font-weight: bold;display: inline-block;line-height: 1.2em;}#sk-container-id-1 div.sk-label-container {text-align: center;}#sk-container-id-1 div.sk-container {/* jupyter's `normalize.less` sets `[hidden] { display: none; }` but bootstrap.min.css set `[hidden] { display: none !important; }` so we also need the `!important` here to be able to override the default hidden behavior on the sphinx rendered scikit-learn.org. See: https://github.com/scikit-learn/scikit-learn/issues/21755 */display: inline-block !important;position: relative;}#sk-container-id-1 div.sk-text-repr-fallback {display: none;}</style><div id=\"sk-container-id-1\" class=\"sk-top-container\"><div class=\"sk-text-repr-fallback\"><pre>LinearRegression()</pre><b>In a Jupyter environment, please rerun this cell to show the HTML representation or trust the notebook. <br />On GitHub, the HTML representation is unable to render, please try loading this page with nbviewer.org.</b></div><div class=\"sk-container\" hidden><div class=\"sk-item\"><div class=\"sk-estimator sk-toggleable\"><input class=\"sk-toggleable__control sk-hidden--visually\" id=\"sk-estimator-id-1\" type=\"checkbox\" checked><label for=\"sk-estimator-id-1\" class=\"sk-toggleable__label sk-toggleable__label-arrow\">LinearRegression</label><div class=\"sk-toggleable__content\"><pre>LinearRegression()</pre></div></div></div></div></div>"
      ],
      "text/plain": [
       "LinearRegression()"
      ]
     },
     "execution_count": 19,
     "metadata": {},
     "output_type": "execute_result"
    }
   ],
   "source": [
    "regr = linear_model.LinearRegression()\n",
    "\n",
    "#ADD CODE\n",
    "\n",
    "regr.fit(train_x, train_y)\n"
   ]
  },
  {
   "cell_type": "markdown",
   "metadata": {},
   "source": [
    "<details><summary>Click here for the solution</summary>\n",
    "\n",
    "```python\n",
    "regr = linear_model.LinearRegression()\n",
    "\n",
    "regr.fit(train_x, train_y)\n",
    "\n",
    "```\n",
    "\n",
    "</details>\n"
   ]
  },
  {
   "cell_type": "markdown",
   "metadata": {},
   "source": [
    "Find the predictions using the model's `predict` function and the `test_x` data\n"
   ]
  },
  {
   "cell_type": "code",
   "execution_count": 20,
   "metadata": {},
   "outputs": [],
   "source": [
    "predictions = regr.predict(test_x) #ADD CODE"
   ]
  },
  {
   "cell_type": "markdown",
   "metadata": {},
   "source": [
    "<details><summary>Click here for the solution</summary>\n",
    "\n",
    "```python\n",
    "predictions = regr.predict(test_x)\n",
    "\n",
    "```\n",
    "\n",
    "</details>\n"
   ]
  },
  {
   "cell_type": "markdown",
   "metadata": {},
   "source": [
    "Finally use the `predictions` and the `test_y` data and find the Mean Absolute Error value using the `np.absolute` and `np.mean` function like done previously\n"
   ]
  },
  {
   "cell_type": "code",
   "execution_count": 22,
   "metadata": {},
   "outputs": [
    {
     "name": "stdout",
     "output_type": "stream",
     "text": [
      "Mean absolute error: 19.31\n"
     ]
    }
   ],
   "source": [
    "#ADD CODE\n",
    "print(\"Mean absolute error: %.2f\" % np.mean(np.absolute(predictions - test_y)))"
   ]
  },
  {
   "cell_type": "markdown",
   "metadata": {},
   "source": [
    "<details><summary>Click here for the solution</summary>\n",
    "\n",
    "```python\n",
    "print(\"Mean Absolute Error: %.2f\" % np.mean(np.absolute(predictions - test_y)))\n",
    "\n",
    "```\n",
    "\n",
    "</details>\n"
   ]
  },
  {
   "cell_type": "markdown",
   "metadata": {},
   "source": [
    "We can see that the MAE is much worse when we train using `ENGINESIZE` than `FUELCONSUMPTION_COMB`\n"
   ]
  },
  {
   "cell_type": "markdown",
   "metadata": {
    "button": false,
    "new_sheet": false,
    "run_control": {
     "read_only": false
    }
   },
   "source": [
    "<h2>Want to learn more?</h2>\n",
    "\n",
    "IBM SPSS Modeler is a comprehensive analytics platform that has many machine learning algorithms. It has been designed to bring predictive intelligence to decisions made by individuals, by groups, by systems – by your enterprise as a whole. A free trial is available through this course, available here: <a href=\"https://www.ibm.com/analytics/spss-statistics-software?utm_medium=Exinfluencer&utm_source=Exinfluencer&utm_content=000026UJ&utm_term=10006555&utm_id=NA-SkillsNetwork-Channel-SkillsNetworkCoursesIBMDeveloperSkillsNetworkML0101ENSkillsNetwork20718538-2022-01-01\">SPSS Modeler</a>\n",
    "\n",
    "Also, you can use Watson Studio to run these notebooks faster with bigger datasets. Watson Studio is IBM's leading cloud solution for data scientists, built by data scientists. With Jupyter notebooks, RStudio, Apache Spark and popular libraries pre-packaged in the cloud, Watson Studio enables data scientists to collaborate on their projects without having to install anything. Join the fast-growing community of Watson Studio users today with a free account at <a href=\"https://www.ibm.com/cloud/watson-studio?utm_medium=Exinfluencer&utm_source=Exinfluencer&utm_content=000026UJ&utm_term=10006555&utm_id=NA-SkillsNetwork-Channel-SkillsNetworkCoursesIBMDeveloperSkillsNetworkML0101ENSkillsNetwork20718538-2022-01-01\">Watson Studio</a>\n"
   ]
  },
  {
   "cell_type": "markdown",
   "metadata": {},
   "source": [
    "### Thank you for completing this lab!\n",
    "\n",
    "## Author\n",
    "\n",
    "Saeed Aghabozorgi\n",
    "\n",
    "### Other Contributors\n",
    "\n",
    "<a href=\"https://www.linkedin.com/in/joseph-s-50398b136/?utm_medium=Exinfluencer&utm_source=Exinfluencer&utm_content=000026UJ&utm_term=10006555&utm_id=NA-SkillsNetwork-Channel-SkillsNetworkCoursesIBMDeveloperSkillsNetworkML0101ENSkillsNetwork20718538-2022-01-01\" target=\"_blank\">Joseph Santarcangelo</a>\n",
    "\n",
    "Azim Hirjani\n",
    "\n",
    "## Change Log\n",
    "\n",
    "| Date (YYYY-MM-DD) | Version | Changed By    | Change Description                 |\n",
    "| ----------------- | ------- | ------------- | ---------------------------------- |\n",
    "| 2020-11-03        | 2.1     | Lakshmi Holla | Changed URL of the csv             |\n",
    "| 2020-08-27        | 2.0     | Lavanya       | Moved lab to course repo in GitLab |\n",
    "|                   |         |               |                                    |\n",
    "|                   |         |               |                                    |\n",
    "\n",
    "## <h3 align=\"center\"> © IBM Corporation 2020. All rights reserved. <h3/>\n"
   ]
  }
 ],
 "metadata": {
  "kernelspec": {
   "display_name": "Python 3 (ipykernel)",
   "language": "python",
   "name": "python3"
  },
  "language_info": {
   "codemirror_mode": {
    "name": "ipython",
    "version": 3
   },
   "file_extension": ".py",
   "mimetype": "text/x-python",
   "name": "python",
   "nbconvert_exporter": "python",
   "pygments_lexer": "ipython3",
   "version": "3.10.4"
  },
  "widgets": {
   "state": {},
   "version": "1.1.2"
  }
 },
 "nbformat": 4,
 "nbformat_minor": 4
}
